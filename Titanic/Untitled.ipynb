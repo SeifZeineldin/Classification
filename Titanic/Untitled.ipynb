{
 "cells": [
  {
   "cell_type": "code",
   "execution_count": 115,
   "id": "4f9f8f85",
   "metadata": {
    "ExecuteTime": {
     "end_time": "2022-07-24T21:33:37.059612Z",
     "start_time": "2022-07-24T21:33:37.053215Z"
    }
   },
   "outputs": [],
   "source": [
    "import numpy as np\n",
    "import pandas as pd\n",
    "import seaborn as sns\n",
    "import matplotlib.pyplot as plt\n",
    "from sklearn.linear_model import LogisticRegression\n",
    "\n",
    "import warnings\n",
    "warnings.filterwarnings('ignore')"
   ]
  },
  {
   "cell_type": "markdown",
   "id": "af4bc7c1",
   "metadata": {},
   "source": [
    "# 1-Know data and select feature"
   ]
  },
  {
   "cell_type": "markdown",
   "id": "63df112f",
   "metadata": {},
   "source": [
    "###  Let's discover the data"
   ]
  },
  {
   "cell_type": "code",
   "execution_count": 116,
   "id": "a6398f60",
   "metadata": {
    "ExecuteTime": {
     "end_time": "2022-07-24T21:33:39.158764Z",
     "start_time": "2022-07-24T21:33:39.124371Z"
    }
   },
   "outputs": [
    {
     "data": {
      "text/html": [
       "<div>\n",
       "<style scoped>\n",
       "    .dataframe tbody tr th:only-of-type {\n",
       "        vertical-align: middle;\n",
       "    }\n",
       "\n",
       "    .dataframe tbody tr th {\n",
       "        vertical-align: top;\n",
       "    }\n",
       "\n",
       "    .dataframe thead th {\n",
       "        text-align: right;\n",
       "    }\n",
       "</style>\n",
       "<table border=\"1\" class=\"dataframe\">\n",
       "  <thead>\n",
       "    <tr style=\"text-align: right;\">\n",
       "      <th></th>\n",
       "      <th>PassengerId</th>\n",
       "      <th>Survived</th>\n",
       "      <th>Pclass</th>\n",
       "      <th>Name</th>\n",
       "      <th>Sex</th>\n",
       "      <th>Age</th>\n",
       "      <th>SibSp</th>\n",
       "      <th>Parch</th>\n",
       "      <th>Ticket</th>\n",
       "      <th>Fare</th>\n",
       "      <th>Cabin</th>\n",
       "      <th>Embarked</th>\n",
       "    </tr>\n",
       "  </thead>\n",
       "  <tbody>\n",
       "    <tr>\n",
       "      <th>0</th>\n",
       "      <td>1</td>\n",
       "      <td>0</td>\n",
       "      <td>3</td>\n",
       "      <td>Braund, Mr. Owen Harris</td>\n",
       "      <td>male</td>\n",
       "      <td>22.0</td>\n",
       "      <td>1</td>\n",
       "      <td>0</td>\n",
       "      <td>A/5 21171</td>\n",
       "      <td>7.2500</td>\n",
       "      <td>NaN</td>\n",
       "      <td>S</td>\n",
       "    </tr>\n",
       "    <tr>\n",
       "      <th>1</th>\n",
       "      <td>2</td>\n",
       "      <td>1</td>\n",
       "      <td>1</td>\n",
       "      <td>Cumings, Mrs. John Bradley (Florence Briggs Th...</td>\n",
       "      <td>female</td>\n",
       "      <td>38.0</td>\n",
       "      <td>1</td>\n",
       "      <td>0</td>\n",
       "      <td>PC 17599</td>\n",
       "      <td>71.2833</td>\n",
       "      <td>C85</td>\n",
       "      <td>C</td>\n",
       "    </tr>\n",
       "    <tr>\n",
       "      <th>2</th>\n",
       "      <td>3</td>\n",
       "      <td>1</td>\n",
       "      <td>3</td>\n",
       "      <td>Heikkinen, Miss. Laina</td>\n",
       "      <td>female</td>\n",
       "      <td>26.0</td>\n",
       "      <td>0</td>\n",
       "      <td>0</td>\n",
       "      <td>STON/O2. 3101282</td>\n",
       "      <td>7.9250</td>\n",
       "      <td>NaN</td>\n",
       "      <td>S</td>\n",
       "    </tr>\n",
       "    <tr>\n",
       "      <th>3</th>\n",
       "      <td>4</td>\n",
       "      <td>1</td>\n",
       "      <td>1</td>\n",
       "      <td>Futrelle, Mrs. Jacques Heath (Lily May Peel)</td>\n",
       "      <td>female</td>\n",
       "      <td>35.0</td>\n",
       "      <td>1</td>\n",
       "      <td>0</td>\n",
       "      <td>113803</td>\n",
       "      <td>53.1000</td>\n",
       "      <td>C123</td>\n",
       "      <td>S</td>\n",
       "    </tr>\n",
       "    <tr>\n",
       "      <th>4</th>\n",
       "      <td>5</td>\n",
       "      <td>0</td>\n",
       "      <td>3</td>\n",
       "      <td>Allen, Mr. William Henry</td>\n",
       "      <td>male</td>\n",
       "      <td>35.0</td>\n",
       "      <td>0</td>\n",
       "      <td>0</td>\n",
       "      <td>373450</td>\n",
       "      <td>8.0500</td>\n",
       "      <td>NaN</td>\n",
       "      <td>S</td>\n",
       "    </tr>\n",
       "    <tr>\n",
       "      <th>...</th>\n",
       "      <td>...</td>\n",
       "      <td>...</td>\n",
       "      <td>...</td>\n",
       "      <td>...</td>\n",
       "      <td>...</td>\n",
       "      <td>...</td>\n",
       "      <td>...</td>\n",
       "      <td>...</td>\n",
       "      <td>...</td>\n",
       "      <td>...</td>\n",
       "      <td>...</td>\n",
       "      <td>...</td>\n",
       "    </tr>\n",
       "    <tr>\n",
       "      <th>886</th>\n",
       "      <td>887</td>\n",
       "      <td>0</td>\n",
       "      <td>2</td>\n",
       "      <td>Montvila, Rev. Juozas</td>\n",
       "      <td>male</td>\n",
       "      <td>27.0</td>\n",
       "      <td>0</td>\n",
       "      <td>0</td>\n",
       "      <td>211536</td>\n",
       "      <td>13.0000</td>\n",
       "      <td>NaN</td>\n",
       "      <td>S</td>\n",
       "    </tr>\n",
       "    <tr>\n",
       "      <th>887</th>\n",
       "      <td>888</td>\n",
       "      <td>1</td>\n",
       "      <td>1</td>\n",
       "      <td>Graham, Miss. Margaret Edith</td>\n",
       "      <td>female</td>\n",
       "      <td>19.0</td>\n",
       "      <td>0</td>\n",
       "      <td>0</td>\n",
       "      <td>112053</td>\n",
       "      <td>30.0000</td>\n",
       "      <td>B42</td>\n",
       "      <td>S</td>\n",
       "    </tr>\n",
       "    <tr>\n",
       "      <th>888</th>\n",
       "      <td>889</td>\n",
       "      <td>0</td>\n",
       "      <td>3</td>\n",
       "      <td>Johnston, Miss. Catherine Helen \"Carrie\"</td>\n",
       "      <td>female</td>\n",
       "      <td>NaN</td>\n",
       "      <td>1</td>\n",
       "      <td>2</td>\n",
       "      <td>W./C. 6607</td>\n",
       "      <td>23.4500</td>\n",
       "      <td>NaN</td>\n",
       "      <td>S</td>\n",
       "    </tr>\n",
       "    <tr>\n",
       "      <th>889</th>\n",
       "      <td>890</td>\n",
       "      <td>1</td>\n",
       "      <td>1</td>\n",
       "      <td>Behr, Mr. Karl Howell</td>\n",
       "      <td>male</td>\n",
       "      <td>26.0</td>\n",
       "      <td>0</td>\n",
       "      <td>0</td>\n",
       "      <td>111369</td>\n",
       "      <td>30.0000</td>\n",
       "      <td>C148</td>\n",
       "      <td>C</td>\n",
       "    </tr>\n",
       "    <tr>\n",
       "      <th>890</th>\n",
       "      <td>891</td>\n",
       "      <td>0</td>\n",
       "      <td>3</td>\n",
       "      <td>Dooley, Mr. Patrick</td>\n",
       "      <td>male</td>\n",
       "      <td>32.0</td>\n",
       "      <td>0</td>\n",
       "      <td>0</td>\n",
       "      <td>370376</td>\n",
       "      <td>7.7500</td>\n",
       "      <td>NaN</td>\n",
       "      <td>Q</td>\n",
       "    </tr>\n",
       "  </tbody>\n",
       "</table>\n",
       "<p>891 rows × 12 columns</p>\n",
       "</div>"
      ],
      "text/plain": [
       "     PassengerId  Survived  Pclass  \\\n",
       "0              1         0       3   \n",
       "1              2         1       1   \n",
       "2              3         1       3   \n",
       "3              4         1       1   \n",
       "4              5         0       3   \n",
       "..           ...       ...     ...   \n",
       "886          887         0       2   \n",
       "887          888         1       1   \n",
       "888          889         0       3   \n",
       "889          890         1       1   \n",
       "890          891         0       3   \n",
       "\n",
       "                                                  Name     Sex   Age  SibSp  \\\n",
       "0                              Braund, Mr. Owen Harris    male  22.0      1   \n",
       "1    Cumings, Mrs. John Bradley (Florence Briggs Th...  female  38.0      1   \n",
       "2                               Heikkinen, Miss. Laina  female  26.0      0   \n",
       "3         Futrelle, Mrs. Jacques Heath (Lily May Peel)  female  35.0      1   \n",
       "4                             Allen, Mr. William Henry    male  35.0      0   \n",
       "..                                                 ...     ...   ...    ...   \n",
       "886                              Montvila, Rev. Juozas    male  27.0      0   \n",
       "887                       Graham, Miss. Margaret Edith  female  19.0      0   \n",
       "888           Johnston, Miss. Catherine Helen \"Carrie\"  female   NaN      1   \n",
       "889                              Behr, Mr. Karl Howell    male  26.0      0   \n",
       "890                                Dooley, Mr. Patrick    male  32.0      0   \n",
       "\n",
       "     Parch            Ticket     Fare Cabin Embarked  \n",
       "0        0         A/5 21171   7.2500   NaN        S  \n",
       "1        0          PC 17599  71.2833   C85        C  \n",
       "2        0  STON/O2. 3101282   7.9250   NaN        S  \n",
       "3        0            113803  53.1000  C123        S  \n",
       "4        0            373450   8.0500   NaN        S  \n",
       "..     ...               ...      ...   ...      ...  \n",
       "886      0            211536  13.0000   NaN        S  \n",
       "887      0            112053  30.0000   B42        S  \n",
       "888      2        W./C. 6607  23.4500   NaN        S  \n",
       "889      0            111369  30.0000  C148        C  \n",
       "890      0            370376   7.7500   NaN        Q  \n",
       "\n",
       "[891 rows x 12 columns]"
      ]
     },
     "execution_count": 116,
     "metadata": {},
     "output_type": "execute_result"
    }
   ],
   "source": [
    "df=pd.read_csv(\"train.csv\")\n",
    "df"
   ]
  },
  {
   "cell_type": "code",
   "execution_count": 117,
   "id": "6fb8206f",
   "metadata": {
    "ExecuteTime": {
     "end_time": "2022-07-24T21:33:43.513849Z",
     "start_time": "2022-07-24T21:33:43.491809Z"
    }
   },
   "outputs": [
    {
     "name": "stdout",
     "output_type": "stream",
     "text": [
      "<class 'pandas.core.frame.DataFrame'>\n",
      "RangeIndex: 891 entries, 0 to 890\n",
      "Data columns (total 12 columns):\n",
      " #   Column       Non-Null Count  Dtype  \n",
      "---  ------       --------------  -----  \n",
      " 0   PassengerId  891 non-null    int64  \n",
      " 1   Survived     891 non-null    int64  \n",
      " 2   Pclass       891 non-null    int64  \n",
      " 3   Name         891 non-null    object \n",
      " 4   Sex          891 non-null    object \n",
      " 5   Age          714 non-null    float64\n",
      " 6   SibSp        891 non-null    int64  \n",
      " 7   Parch        891 non-null    int64  \n",
      " 8   Ticket       891 non-null    object \n",
      " 9   Fare         891 non-null    float64\n",
      " 10  Cabin        204 non-null    object \n",
      " 11  Embarked     889 non-null    object \n",
      "dtypes: float64(2), int64(5), object(5)\n",
      "memory usage: 83.7+ KB\n"
     ]
    }
   ],
   "source": [
    "df.info()"
   ]
  },
  {
   "cell_type": "markdown",
   "id": "f0ea8d73",
   "metadata": {},
   "source": [
    "####  At first, I thought that the ( name  ,  id  and Cabin ) would not secure the data in any way and (\"Cabin\") has alot Null value"
   ]
  },
  {
   "cell_type": "code",
   "execution_count": 118,
   "id": "1c10ba2a",
   "metadata": {
    "ExecuteTime": {
     "end_time": "2022-07-24T21:33:46.921978Z",
     "start_time": "2022-07-24T21:33:46.913706Z"
    }
   },
   "outputs": [],
   "source": [
    "df.drop([\"Name\",\"PassengerId\",\"Cabin\",\"Ticket\"],axis=1,inplace=True)"
   ]
  },
  {
   "cell_type": "code",
   "execution_count": 119,
   "id": "d6794034",
   "metadata": {
    "ExecuteTime": {
     "end_time": "2022-07-24T21:33:48.360283Z",
     "start_time": "2022-07-24T21:33:48.330295Z"
    }
   },
   "outputs": [
    {
     "data": {
      "text/html": [
       "<div>\n",
       "<style scoped>\n",
       "    .dataframe tbody tr th:only-of-type {\n",
       "        vertical-align: middle;\n",
       "    }\n",
       "\n",
       "    .dataframe tbody tr th {\n",
       "        vertical-align: top;\n",
       "    }\n",
       "\n",
       "    .dataframe thead th {\n",
       "        text-align: right;\n",
       "    }\n",
       "</style>\n",
       "<table border=\"1\" class=\"dataframe\">\n",
       "  <thead>\n",
       "    <tr style=\"text-align: right;\">\n",
       "      <th></th>\n",
       "      <th>Survived</th>\n",
       "      <th>Pclass</th>\n",
       "      <th>Sex</th>\n",
       "      <th>Age</th>\n",
       "      <th>SibSp</th>\n",
       "      <th>Parch</th>\n",
       "      <th>Fare</th>\n",
       "      <th>Embarked</th>\n",
       "    </tr>\n",
       "  </thead>\n",
       "  <tbody>\n",
       "    <tr>\n",
       "      <th>0</th>\n",
       "      <td>0</td>\n",
       "      <td>3</td>\n",
       "      <td>male</td>\n",
       "      <td>22.0</td>\n",
       "      <td>1</td>\n",
       "      <td>0</td>\n",
       "      <td>7.2500</td>\n",
       "      <td>S</td>\n",
       "    </tr>\n",
       "    <tr>\n",
       "      <th>1</th>\n",
       "      <td>1</td>\n",
       "      <td>1</td>\n",
       "      <td>female</td>\n",
       "      <td>38.0</td>\n",
       "      <td>1</td>\n",
       "      <td>0</td>\n",
       "      <td>71.2833</td>\n",
       "      <td>C</td>\n",
       "    </tr>\n",
       "    <tr>\n",
       "      <th>2</th>\n",
       "      <td>1</td>\n",
       "      <td>3</td>\n",
       "      <td>female</td>\n",
       "      <td>26.0</td>\n",
       "      <td>0</td>\n",
       "      <td>0</td>\n",
       "      <td>7.9250</td>\n",
       "      <td>S</td>\n",
       "    </tr>\n",
       "    <tr>\n",
       "      <th>3</th>\n",
       "      <td>1</td>\n",
       "      <td>1</td>\n",
       "      <td>female</td>\n",
       "      <td>35.0</td>\n",
       "      <td>1</td>\n",
       "      <td>0</td>\n",
       "      <td>53.1000</td>\n",
       "      <td>S</td>\n",
       "    </tr>\n",
       "    <tr>\n",
       "      <th>4</th>\n",
       "      <td>0</td>\n",
       "      <td>3</td>\n",
       "      <td>male</td>\n",
       "      <td>35.0</td>\n",
       "      <td>0</td>\n",
       "      <td>0</td>\n",
       "      <td>8.0500</td>\n",
       "      <td>S</td>\n",
       "    </tr>\n",
       "  </tbody>\n",
       "</table>\n",
       "</div>"
      ],
      "text/plain": [
       "   Survived  Pclass     Sex   Age  SibSp  Parch     Fare Embarked\n",
       "0         0       3    male  22.0      1      0   7.2500        S\n",
       "1         1       1  female  38.0      1      0  71.2833        C\n",
       "2         1       3  female  26.0      0      0   7.9250        S\n",
       "3         1       1  female  35.0      1      0  53.1000        S\n",
       "4         0       3    male  35.0      0      0   8.0500        S"
      ]
     },
     "execution_count": 119,
     "metadata": {},
     "output_type": "execute_result"
    }
   ],
   "source": [
    "df.head()"
   ]
  },
  {
   "cell_type": "code",
   "execution_count": null,
   "id": "196d18bb",
   "metadata": {},
   "outputs": [],
   "source": [
    "\n",
    "\n",
    "\n",
    "\n"
   ]
  },
  {
   "cell_type": "markdown",
   "id": "69e7d5f6",
   "metadata": {},
   "source": [
    "# 2-Deal with Null Values"
   ]
  },
  {
   "cell_type": "markdown",
   "id": "cb396498",
   "metadata": {},
   "source": [
    "## 2.1- Null values in \"Embarked\""
   ]
  },
  {
   "cell_type": "markdown",
   "id": "28e85b28",
   "metadata": {},
   "source": [
    "###  there are 3 null values in \"Embarked\" , we can fill it by mode"
   ]
  },
  {
   "cell_type": "code",
   "execution_count": 120,
   "id": "d65a7c32",
   "metadata": {
    "ExecuteTime": {
     "end_time": "2022-07-24T21:33:51.516420Z",
     "start_time": "2022-07-24T21:33:51.502162Z"
    }
   },
   "outputs": [],
   "source": [
    "df.fillna({\"Embarked\":df[\"Embarked\"].value_counts().index[0]},inplace=True)"
   ]
  },
  {
   "cell_type": "code",
   "execution_count": null,
   "id": "141aab53",
   "metadata": {},
   "outputs": [],
   "source": [
    "\n",
    "\n"
   ]
  },
  {
   "cell_type": "markdown",
   "id": "fdc4276d",
   "metadata": {},
   "source": [
    "## 2.2- Null values in \"Age\""
   ]
  },
  {
   "cell_type": "markdown",
   "id": "7984c7d1",
   "metadata": {},
   "source": [
    "###  we must discoverd Correlating between \"Age\" and other columns"
   ]
  },
  {
   "cell_type": "code",
   "execution_count": 121,
   "id": "1630bff1",
   "metadata": {
    "ExecuteTime": {
     "end_time": "2022-07-24T21:33:54.997975Z",
     "start_time": "2022-07-24T21:33:54.977718Z"
    }
   },
   "outputs": [
    {
     "data": {
      "text/html": [
       "<div>\n",
       "<style scoped>\n",
       "    .dataframe tbody tr th:only-of-type {\n",
       "        vertical-align: middle;\n",
       "    }\n",
       "\n",
       "    .dataframe tbody tr th {\n",
       "        vertical-align: top;\n",
       "    }\n",
       "\n",
       "    .dataframe thead th {\n",
       "        text-align: right;\n",
       "    }\n",
       "</style>\n",
       "<table border=\"1\" class=\"dataframe\">\n",
       "  <thead>\n",
       "    <tr style=\"text-align: right;\">\n",
       "      <th></th>\n",
       "      <th>Survived</th>\n",
       "      <th>Pclass</th>\n",
       "      <th>Age</th>\n",
       "      <th>SibSp</th>\n",
       "      <th>Parch</th>\n",
       "      <th>Fare</th>\n",
       "    </tr>\n",
       "  </thead>\n",
       "  <tbody>\n",
       "    <tr>\n",
       "      <th>Survived</th>\n",
       "      <td>1.000000</td>\n",
       "      <td>-0.338481</td>\n",
       "      <td>-0.077221</td>\n",
       "      <td>-0.035322</td>\n",
       "      <td>0.081629</td>\n",
       "      <td>0.257307</td>\n",
       "    </tr>\n",
       "    <tr>\n",
       "      <th>Pclass</th>\n",
       "      <td>-0.338481</td>\n",
       "      <td>1.000000</td>\n",
       "      <td>-0.369226</td>\n",
       "      <td>0.083081</td>\n",
       "      <td>0.018443</td>\n",
       "      <td>-0.549500</td>\n",
       "    </tr>\n",
       "    <tr>\n",
       "      <th>Age</th>\n",
       "      <td>-0.077221</td>\n",
       "      <td>-0.369226</td>\n",
       "      <td>1.000000</td>\n",
       "      <td>-0.308247</td>\n",
       "      <td>-0.189119</td>\n",
       "      <td>0.096067</td>\n",
       "    </tr>\n",
       "    <tr>\n",
       "      <th>SibSp</th>\n",
       "      <td>-0.035322</td>\n",
       "      <td>0.083081</td>\n",
       "      <td>-0.308247</td>\n",
       "      <td>1.000000</td>\n",
       "      <td>0.414838</td>\n",
       "      <td>0.159651</td>\n",
       "    </tr>\n",
       "    <tr>\n",
       "      <th>Parch</th>\n",
       "      <td>0.081629</td>\n",
       "      <td>0.018443</td>\n",
       "      <td>-0.189119</td>\n",
       "      <td>0.414838</td>\n",
       "      <td>1.000000</td>\n",
       "      <td>0.216225</td>\n",
       "    </tr>\n",
       "    <tr>\n",
       "      <th>Fare</th>\n",
       "      <td>0.257307</td>\n",
       "      <td>-0.549500</td>\n",
       "      <td>0.096067</td>\n",
       "      <td>0.159651</td>\n",
       "      <td>0.216225</td>\n",
       "      <td>1.000000</td>\n",
       "    </tr>\n",
       "  </tbody>\n",
       "</table>\n",
       "</div>"
      ],
      "text/plain": [
       "          Survived    Pclass       Age     SibSp     Parch      Fare\n",
       "Survived  1.000000 -0.338481 -0.077221 -0.035322  0.081629  0.257307\n",
       "Pclass   -0.338481  1.000000 -0.369226  0.083081  0.018443 -0.549500\n",
       "Age      -0.077221 -0.369226  1.000000 -0.308247 -0.189119  0.096067\n",
       "SibSp    -0.035322  0.083081 -0.308247  1.000000  0.414838  0.159651\n",
       "Parch     0.081629  0.018443 -0.189119  0.414838  1.000000  0.216225\n",
       "Fare      0.257307 -0.549500  0.096067  0.159651  0.216225  1.000000"
      ]
     },
     "execution_count": 121,
     "metadata": {},
     "output_type": "execute_result"
    }
   ],
   "source": [
    "df.corr()"
   ]
  },
  {
   "cell_type": "markdown",
   "id": "ea57c146",
   "metadata": {},
   "source": [
    "### It is clear that there is a strong relationship between \"ِAge\" and \"pclass\"\n",
    "\n"
   ]
  },
  {
   "cell_type": "code",
   "execution_count": 122,
   "id": "82a5159f",
   "metadata": {
    "ExecuteTime": {
     "end_time": "2022-07-24T21:33:59.419875Z",
     "start_time": "2022-07-24T21:33:58.101851Z"
    },
    "scrolled": true
   },
   "outputs": [
    {
     "data": {
      "text/plain": [
       "<seaborn.axisgrid.FacetGrid at 0x20b7cefe640>"
      ]
     },
     "execution_count": 122,
     "metadata": {},
     "output_type": "execute_result"
    },
    {
     "data": {
      "image/png": "[encoded data removed]",
      "text/plain": [
       "<Figure size 648x216 with 3 Axes>"
      ]
     },
     "metadata": {
      "needs_background": "light"
     },
     "output_type": "display_data"
    }
   ],
   "source": [
    "visualize = sns.FacetGrid(df, col='Pclass')\n",
    "visualize.map(sns.distplot, 'Age', bins=30)"
   ]
  },
  {
   "cell_type": "markdown",
   "id": "d839773d",
   "metadata": {},
   "source": [
    "### i think , i can depend on \"Pclass\" to predict \"Age\""
   ]
  },
  {
   "cell_type": "code",
   "execution_count": 123,
   "id": "68f45f2f",
   "metadata": {
    "ExecuteTime": {
     "end_time": "2022-07-24T21:34:05.792994Z",
     "start_time": "2022-07-24T21:34:05.774194Z"
    }
   },
   "outputs": [],
   "source": [
    "pclass_1=df.loc[(df.Pclass==1 ) &(df[\"Age\"].notna())][\"Age\"].median()\n",
    "pclass_2=df.loc[(df.Pclass==2 ) &(df[\"Age\"].notna())][\"Age\"].median()\n",
    "pclass_3=df.loc[(df.Pclass==3 ) &(df[\"Age\"].notna())][\"Age\"].median()\n",
    "Age=[pclass_1,pclass_2,pclass_3]\n",
    "for i in [1,2,3]:\n",
    "    df.loc[ (df.Age.isnull()) & (df.Pclass == i),\"Age\"]=Age[i-1]"
   ]
  },
  {
   "cell_type": "code",
   "execution_count": 124,
   "id": "04ee51cc",
   "metadata": {
    "ExecuteTime": {
     "end_time": "2022-07-24T21:34:08.117977Z",
     "start_time": "2022-07-24T21:34:08.099699Z"
    }
   },
   "outputs": [
    {
     "name": "stdout",
     "output_type": "stream",
     "text": [
      "<class 'pandas.core.frame.DataFrame'>\n",
      "RangeIndex: 891 entries, 0 to 890\n",
      "Data columns (total 8 columns):\n",
      " #   Column    Non-Null Count  Dtype  \n",
      "---  ------    --------------  -----  \n",
      " 0   Survived  891 non-null    int64  \n",
      " 1   Pclass    891 non-null    int64  \n",
      " 2   Sex       891 non-null    object \n",
      " 3   Age       891 non-null    float64\n",
      " 4   SibSp     891 non-null    int64  \n",
      " 5   Parch     891 non-null    int64  \n",
      " 6   Fare      891 non-null    float64\n",
      " 7   Embarked  891 non-null    object \n",
      "dtypes: float64(2), int64(4), object(2)\n",
      "memory usage: 55.8+ KB\n"
     ]
    }
   ],
   "source": [
    "df.info()"
   ]
  },
  {
   "cell_type": "markdown",
   "id": "b420f820",
   "metadata": {},
   "source": [
    "### Now, i did't have any Null values"
   ]
  },
  {
   "cell_type": "code",
   "execution_count": null,
   "id": "db14f33d",
   "metadata": {},
   "outputs": [],
   "source": []
  },
  {
   "cell_type": "markdown",
   "id": "d2ec4066",
   "metadata": {},
   "source": [
    "# 3- Let's analyze the data"
   ]
  },
  {
   "cell_type": "code",
   "execution_count": 125,
   "id": "fb4cce30",
   "metadata": {
    "ExecuteTime": {
     "end_time": "2022-07-24T21:34:11.871751Z",
     "start_time": "2022-07-24T21:34:11.680319Z"
    }
   },
   "outputs": [
    {
     "data": {
      "text/plain": [
       "([<matplotlib.patches.Wedge at 0x20b7d344850>,\n",
       "  <matplotlib.patches.Wedge at 0x20b7d34d100>],\n",
       " [Text(-0.5888624026491874, 1.541343917088664, '0'),\n",
       "  Text(0.5888625469602174, -1.54134386195538, '1')],\n",
       " [Text(-0.32119767417228395, 0.8407330456847257, '61.6%'),\n",
       "  Text(0.3211977528873913, -0.8407330156120254, '38.4%')])"
      ]
     },
     "execution_count": 125,
     "metadata": {},
     "output_type": "execute_result"
    },
    {
     "data": {
      "image/png": "[encoded data removed]",
      "text/plain": [
       "<Figure size 432x288 with 1 Axes>"
      ]
     },
     "metadata": {},
     "output_type": "display_data"
    }
   ],
   "source": [
    "data=df[\"Survived\"].value_counts().values\n",
    "label=df[\"Survived\"].value_counts().index\n",
    "plt.pie(x=data,labels=label,shadow =True,autopct='%1.1f%%',radius=1.5 )"
   ]
  },
  {
   "cell_type": "markdown",
   "id": "67984264",
   "metadata": {},
   "source": [
    "## Now I want to know what are the most influential feature"
   ]
  },
  {
   "cell_type": "code",
   "execution_count": 126,
   "id": "02c77164",
   "metadata": {
    "ExecuteTime": {
     "end_time": "2022-07-24T21:34:16.499720Z",
     "start_time": "2022-07-24T21:34:15.920096Z"
    }
   },
   "outputs": [
    {
     "data": {
      "text/plain": [
       "<AxesSubplot:>"
      ]
     },
     "execution_count": 126,
     "metadata": {},
     "output_type": "execute_result"
    },
    {
     "data": {
      "image/png": "[encoded data removed]",
      "text/plain": [
       "<Figure size 432x288 with 2 Axes>"
      ]
     },
     "metadata": {
      "needs_background": "light"
     },
     "output_type": "display_data"
    }
   ],
   "source": [
    "relashinships = df.corr()\n",
    "cols = relashinships.nlargest(6, 'Survived')['Survived'].index\n",
    "values = df[cols].corr()\n",
    "sns.heatmap(values, cbar=True, annot=True, square=True,vmax=2 , yticklabels=cols.values, xticklabels=cols.values)"
   ]
  },
  {
   "cell_type": "code",
   "execution_count": null,
   "id": "e1c06718",
   "metadata": {
    "ExecuteTime": {
     "end_time": "2022-07-24T14:02:41.139704Z",
     "start_time": "2022-07-24T14:02:41.073564Z"
    }
   },
   "outputs": [],
   "source": [
    "\n",
    "\n",
    "\n"
   ]
  },
  {
   "cell_type": "markdown",
   "id": "b075d993",
   "metadata": {
    "ExecuteTime": {
     "end_time": "2022-07-24T11:33:27.485880Z",
     "start_time": "2022-07-24T11:33:27.458052Z"
    }
   },
   "source": [
    "### ok , now we know that \"Pclass\" the most feature related with \"Survived\" then \"Fare\" then \"Parch\""
   ]
  },
  {
   "cell_type": "markdown",
   "id": "3c397640",
   "metadata": {},
   "source": [
    "#### Now let's take a look at the Pclass"
   ]
  },
  {
   "cell_type": "code",
   "execution_count": 129,
   "id": "651ce252",
   "metadata": {
    "ExecuteTime": {
     "end_time": "2022-07-24T21:34:33.054200Z",
     "start_time": "2022-07-24T21:34:31.843427Z"
    }
   },
   "outputs": [
    {
     "data": {
      "text/html": [
       "<div>\n",
       "<style scoped>\n",
       "    .dataframe tbody tr th:only-of-type {\n",
       "        vertical-align: middle;\n",
       "    }\n",
       "\n",
       "    .dataframe tbody tr th {\n",
       "        vertical-align: top;\n",
       "    }\n",
       "\n",
       "    .dataframe thead th {\n",
       "        text-align: right;\n",
       "    }\n",
       "</style>\n",
       "<table border=\"1\" class=\"dataframe\">\n",
       "  <thead>\n",
       "    <tr style=\"text-align: right;\">\n",
       "      <th></th>\n",
       "      <th>total</th>\n",
       "      <th>Survived</th>\n",
       "      <th>percentage</th>\n",
       "    </tr>\n",
       "    <tr>\n",
       "      <th>Pclass</th>\n",
       "      <th></th>\n",
       "      <th></th>\n",
       "      <th></th>\n",
       "    </tr>\n",
       "  </thead>\n",
       "  <tbody>\n",
       "    <tr>\n",
       "      <th>1</th>\n",
       "      <td>216</td>\n",
       "      <td>136</td>\n",
       "      <td>62.962963</td>\n",
       "    </tr>\n",
       "    <tr>\n",
       "      <th>2</th>\n",
       "      <td>184</td>\n",
       "      <td>87</td>\n",
       "      <td>47.282609</td>\n",
       "    </tr>\n",
       "    <tr>\n",
       "      <th>3</th>\n",
       "      <td>491</td>\n",
       "      <td>119</td>\n",
       "      <td>24.236253</td>\n",
       "    </tr>\n",
       "  </tbody>\n",
       "</table>\n",
       "</div>"
      ],
      "text/plain": [
       "        total  Survived  percentage\n",
       "Pclass                             \n",
       "1         216       136   62.962963\n",
       "2         184        87   47.282609\n",
       "3         491       119   24.236253"
      ]
     },
     "execution_count": 129,
     "metadata": {},
     "output_type": "execute_result"
    },
    {
     "data": {
      "image/png": "[encoded data removed]",
      "text/plain": [
       "<Figure size 648x216 with 3 Axes>"
      ]
     },
     "metadata": {
      "needs_background": "light"
     },
     "output_type": "display_data"
    }
   ],
   "source": [
    "pclass_df=pd.DataFrame()\n",
    "pclass_df[\"total\"]=df.groupby(\"Pclass\").count()[\"Survived\"]\n",
    "pclass_df[\"Survived\"]=df.groupby(\"Pclass\").sum()[\"Survived\"]\n",
    "pclass_df[\"percentage\"]=(pclass_df[\"Survived\"]/pclass_df[\"total\"])*100\n",
    "\n",
    "visualize = sns.FacetGrid(df, col='Pclass')\n",
    "visualize.map(sns.distplot, 'Survived', bins=20)\n",
    "pclass_df"
   ]
  },
  {
   "cell_type": "markdown",
   "id": "1ecf144b",
   "metadata": {
    "ExecuteTime": {
     "end_time": "2022-07-24T11:48:27.229816Z",
     "start_time": "2022-07-24T11:48:27.212183Z"
    }
   },
   "source": [
    "#### It is clear that the survival rate in \"Pclass=1\" was higher than other  and in \"Pclass=3\" most of them died"
   ]
  },
  {
   "cell_type": "code",
   "execution_count": null,
   "id": "4e579cdc",
   "metadata": {
    "ExecuteTime": {
     "end_time": "2022-07-24T11:48:40.953775Z",
     "start_time": "2022-07-24T11:48:40.935401Z"
    }
   },
   "outputs": [],
   "source": [
    "\n",
    "\n",
    "\n",
    "\n",
    "\n",
    "\n",
    "\n",
    "\n",
    "\n",
    "\n",
    "\n",
    "\n",
    "\n",
    "\n",
    "\n",
    "\n",
    "\n"
   ]
  },
  {
   "cell_type": "markdown",
   "id": "eb0e616a",
   "metadata": {},
   "source": [
    "### now let's see Parch and SibSp"
   ]
  },
  {
   "cell_type": "code",
   "execution_count": 130,
   "id": "cc84c6ce",
   "metadata": {
    "ExecuteTime": {
     "end_time": "2022-07-24T21:34:39.163240Z",
     "start_time": "2022-07-24T21:34:39.143651Z"
    }
   },
   "outputs": [],
   "source": [
    "gb=df.groupby(\"Parch\").sum()[\"Survived\"]"
   ]
  },
  {
   "cell_type": "markdown",
   "id": "d6a8464f",
   "metadata": {
    "ExecuteTime": {
     "end_time": "2022-07-24T13:13:43.854665Z",
     "start_time": "2022-07-24T13:13:43.823400Z"
    }
   },
   "source": [
    "\n"
   ]
  },
  {
   "cell_type": "code",
   "execution_count": 131,
   "id": "590cb1ed",
   "metadata": {
    "ExecuteTime": {
     "end_time": "2022-07-24T21:34:40.872056Z",
     "start_time": "2022-07-24T21:34:40.857003Z"
    },
    "scrolled": true
   },
   "outputs": [],
   "source": [
    "gb2=df.groupby(\"SibSp\").sum()[\"Survived\"]"
   ]
  },
  {
   "cell_type": "markdown",
   "id": "fb180ccb",
   "metadata": {},
   "source": [
    "####  It is clear that the less \"Parch , SibSp\", the higher the chance of survival"
   ]
  },
  {
   "cell_type": "code",
   "execution_count": null,
   "id": "9968b11c",
   "metadata": {},
   "outputs": [],
   "source": []
  },
  {
   "cell_type": "code",
   "execution_count": 132,
   "id": "6f9a9eda",
   "metadata": {
    "ExecuteTime": {
     "end_time": "2022-07-24T21:34:45.344793Z",
     "start_time": "2022-07-24T21:34:45.095082Z"
    }
   },
   "outputs": [
    {
     "data": {
      "image/png": "[encoded data removed]",
      "text/plain": [
       "<Figure size 432x288 with 1 Axes>"
      ]
     },
     "metadata": {
      "needs_background": "light"
     },
     "output_type": "display_data"
    }
   ],
   "source": [
    "\n",
    "plt.plot(gb.index , gb.values)\n",
    "plt.xlabel(\"Parch\")\n",
    "plt.ylabel(\"Number of Survived\")\n",
    "plt.show()"
   ]
  },
  {
   "cell_type": "code",
   "execution_count": 133,
   "id": "28d623b4",
   "metadata": {
    "ExecuteTime": {
     "end_time": "2022-07-24T21:34:47.217144Z",
     "start_time": "2022-07-24T21:34:46.919814Z"
    }
   },
   "outputs": [
    {
     "data": {
      "image/png": "[encoded data removed]",
      "text/plain": [
       "<Figure size 432x288 with 1 Axes>"
      ]
     },
     "metadata": {
      "needs_background": "light"
     },
     "output_type": "display_data"
    }
   ],
   "source": [
    "plt.plot(gb2.index , gb2.values)\n",
    "plt.xlabel(\"SibSP\")\n",
    "plt.ylabel(\"Number of Survived\")\n",
    "plt.show()"
   ]
  },
  {
   "cell_type": "markdown",
   "id": "b03f57a9",
   "metadata": {},
   "source": [
    "### look at \"Embarked\""
   ]
  },
  {
   "cell_type": "code",
   "execution_count": 134,
   "id": "1d435c9f",
   "metadata": {
    "ExecuteTime": {
     "end_time": "2022-07-24T21:34:50.944511Z",
     "start_time": "2022-07-24T21:34:50.912939Z"
    }
   },
   "outputs": [
    {
     "data": {
      "text/html": [
       "<div>\n",
       "<style scoped>\n",
       "    .dataframe tbody tr th:only-of-type {\n",
       "        vertical-align: middle;\n",
       "    }\n",
       "\n",
       "    .dataframe tbody tr th {\n",
       "        vertical-align: top;\n",
       "    }\n",
       "\n",
       "    .dataframe thead th {\n",
       "        text-align: right;\n",
       "    }\n",
       "</style>\n",
       "<table border=\"1\" class=\"dataframe\">\n",
       "  <thead>\n",
       "    <tr style=\"text-align: right;\">\n",
       "      <th></th>\n",
       "      <th>Total</th>\n",
       "      <th>Survived</th>\n",
       "      <th>percentage</th>\n",
       "    </tr>\n",
       "    <tr>\n",
       "      <th>Embarked</th>\n",
       "      <th></th>\n",
       "      <th></th>\n",
       "      <th></th>\n",
       "    </tr>\n",
       "  </thead>\n",
       "  <tbody>\n",
       "    <tr>\n",
       "      <th>C</th>\n",
       "      <td>168</td>\n",
       "      <td>93</td>\n",
       "      <td>55.357143</td>\n",
       "    </tr>\n",
       "    <tr>\n",
       "      <th>Q</th>\n",
       "      <td>77</td>\n",
       "      <td>30</td>\n",
       "      <td>38.961039</td>\n",
       "    </tr>\n",
       "    <tr>\n",
       "      <th>S</th>\n",
       "      <td>646</td>\n",
       "      <td>219</td>\n",
       "      <td>33.900929</td>\n",
       "    </tr>\n",
       "  </tbody>\n",
       "</table>\n",
       "</div>"
      ],
      "text/plain": [
       "          Total  Survived  percentage\n",
       "Embarked                             \n",
       "C           168        93   55.357143\n",
       "Q            77        30   38.961039\n",
       "S           646       219   33.900929"
      ]
     },
     "execution_count": 134,
     "metadata": {},
     "output_type": "execute_result"
    }
   ],
   "source": [
    "df2=df.groupby(\"Embarked\")\n",
    "total=pd.DataFrame()\n",
    "total[\"Total\"]=df2.count()[\"Survived\"]\n",
    "total[\"Survived\"]=df2.sum()[\"Survived\"]\n",
    "total[\"percentage\"]=(total[\"Survived\"]/total[\"Total\"])*100\n",
    "total"
   ]
  },
  {
   "cell_type": "markdown",
   "id": "ae4ee20f",
   "metadata": {},
   "source": [
    "#### There is no clear difference between the percentage of survivors from the \"َQ , S\" Embarked\" , but the highest percentage of survivors was from the \"C\"."
   ]
  },
  {
   "cell_type": "code",
   "execution_count": 136,
   "id": "5a0112ea",
   "metadata": {
    "ExecuteTime": {
     "end_time": "2022-07-24T21:35:08.179233Z",
     "start_time": "2022-07-24T21:35:07.789069Z"
    }
   },
   "outputs": [
    {
     "data": {
      "text/plain": [
       "<AxesSubplot:xlabel='Age', ylabel='Count'>"
      ]
     },
     "execution_count": 136,
     "metadata": {},
     "output_type": "execute_result"
    },
    {
     "data": {
      "image/png": "[encoded data removed]",
      "text/plain": [
       "<Figure size 432x288 with 1 Axes>"
      ]
     },
     "metadata": {
      "needs_background": "light"
     },
     "output_type": "display_data"
    }
   ],
   "source": [
    "sns.histplot(data=df,x=\"Age\",bins=30)"
   ]
  },
  {
   "cell_type": "markdown",
   "id": "83d46149",
   "metadata": {},
   "source": [
    "#  i think we should split \"Age\" to Categories \n",
    " "
   ]
  },
  {
   "cell_type": "code",
   "execution_count": 137,
   "id": "0bdf6dab",
   "metadata": {
    "ExecuteTime": {
     "end_time": "2022-07-24T21:35:17.881006Z",
     "start_time": "2022-07-24T21:35:17.856365Z"
    },
    "scrolled": true
   },
   "outputs": [
    {
     "data": {
      "text/plain": [
       "24.0    166\n",
       "37.0     36\n",
       "29.0     31\n",
       "22.0     27\n",
       "18.0     26\n",
       "28.0     25\n",
       "30.0     25\n",
       "19.0     25\n",
       "21.0     24\n",
       "25.0     23\n",
       "36.0     22\n",
       "32.0     18\n",
       "27.0     18\n",
       "26.0     18\n",
       "35.0     18\n",
       "16.0     17\n",
       "31.0     17\n",
       "34.0     15\n",
       "20.0     15\n",
       "33.0     15\n",
       "23.0     15\n",
       "39.0     14\n",
       "40.0     13\n",
       "42.0     13\n",
       "17.0     13\n",
       "45.0     12\n",
       "38.0     11\n",
       "50.0     10\n",
       "4.0      10\n",
       "2.0      10\n",
       "47.0      9\n",
       "48.0      9\n",
       "44.0      9\n",
       "54.0      8\n",
       "9.0       8\n",
       "1.0       7\n",
       "51.0      7\n",
       "52.0      6\n",
       "41.0      6\n",
       "3.0       6\n",
       "14.0      6\n",
       "49.0      6\n",
       "15.0      5\n",
       "43.0      5\n",
       "58.0      5\n",
       "56.0      4\n",
       "8.0       4\n",
       "60.0      4\n",
       "5.0       4\n",
       "62.0      4\n",
       "Name: Age, dtype: int64"
      ]
     },
     "execution_count": 137,
     "metadata": {},
     "output_type": "execute_result"
    }
   ],
   "source": [
    "df[\"Age\"].value_counts().sort_values(ascending=False).head(50)"
   ]
  },
  {
   "cell_type": "code",
   "execution_count": 138,
   "id": "413d121b",
   "metadata": {
    "ExecuteTime": {
     "end_time": "2022-07-24T21:35:21.363582Z",
     "start_time": "2022-07-24T21:35:21.349224Z"
    }
   },
   "outputs": [],
   "source": [
    "def fun(x):\n",
    "    if x<=4:\n",
    "        return \"Baby\"\n",
    "    elif 4<x<=17:\n",
    "        return \"Child\"\n",
    "    elif 17<x<=25:\n",
    "        return \"Teenager\"\n",
    "    elif 25<x<50:\n",
    "        return \"Adult\"\n",
    "    else :\n",
    "        return \"Old\"\n",
    "    \n",
    "df[\"Age\"]=df[\"Age\"].apply(fun)"
   ]
  },
  {
   "cell_type": "code",
   "execution_count": null,
   "id": "9861bd41",
   "metadata": {},
   "outputs": [],
   "source": [
    "\n",
    "\n",
    "\n",
    "\n",
    "\n"
   ]
  },
  {
   "cell_type": "markdown",
   "id": "033aa89e",
   "metadata": {},
   "source": [
    "#  Classification"
   ]
  },
  {
   "cell_type": "code",
   "execution_count": 140,
   "id": "6b0843b6",
   "metadata": {
    "ExecuteTime": {
     "end_time": "2022-07-24T21:35:42.219244Z",
     "start_time": "2022-07-24T21:35:42.196425Z"
    }
   },
   "outputs": [],
   "source": [
    "df=pd.get_dummies(df)"
   ]
  },
  {
   "cell_type": "code",
   "execution_count": 142,
   "id": "4950b775",
   "metadata": {
    "ExecuteTime": {
     "end_time": "2022-07-24T21:37:41.836023Z",
     "start_time": "2022-07-24T21:37:41.816131Z"
    }
   },
   "outputs": [],
   "source": [
    "X=df.iloc[:,1:]\n",
    "y=df[\"Survived\"]"
   ]
  },
  {
   "cell_type": "code",
   "execution_count": 143,
   "id": "76a8be0d",
   "metadata": {
    "ExecuteTime": {
     "end_time": "2022-07-24T21:37:49.036810Z",
     "start_time": "2022-07-24T21:37:48.305531Z"
    }
   },
   "outputs": [
    {
     "data": {
      "text/plain": [
       "LogisticRegression()"
      ]
     },
     "execution_count": 143,
     "metadata": {},
     "output_type": "execute_result"
    }
   ],
   "source": [
    "classification=LogisticRegression()\n",
    "classification.fit(X,y)"
   ]
  },
  {
   "cell_type": "code",
   "execution_count": 144,
   "id": "02630792",
   "metadata": {
    "ExecuteTime": {
     "end_time": "2022-07-24T21:38:00.919089Z",
     "start_time": "2022-07-24T21:38:00.893870Z"
    }
   },
   "outputs": [
    {
     "data": {
      "text/plain": [
       "0.8125701459034792"
      ]
     },
     "execution_count": 144,
     "metadata": {},
     "output_type": "execute_result"
    }
   ],
   "source": [
    "classification.score(X,y)"
   ]
  },
  {
   "cell_type": "code",
   "execution_count": null,
   "id": "1c4e913a",
   "metadata": {},
   "outputs": [],
   "source": []
  }
 ],
 "metadata": {
  "kernelspec": {
   "display_name": "Python 3 (ipykernel)",
   "language": "python",
   "name": "python3"
  },
  "language_info": {
   "codemirror_mode": {
    "name": "ipython",
    "version": 3
   },
   "file_extension": ".py",
   "mimetype": "text/x-python",
   "name": "python",
   "nbconvert_exporter": "python",
   "pygments_lexer": "ipython3",
   "version": "3.9.12"
  }
 },
 "nbformat": 4,
 "nbformat_minor": 5
}
