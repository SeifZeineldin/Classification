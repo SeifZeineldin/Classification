{
 "cells": [
  {
   "cell_type": "markdown",
   "id": "b0638373",
   "metadata": {},
   "source": [
    "# import Modules"
   ]
  },
  {
   "cell_type": "code",
   "execution_count": 4,
   "id": "0af8eb89",
   "metadata": {
    "ExecuteTime": {
     "end_time": "2022-08-23T13:29:20.250066Z",
     "start_time": "2022-08-23T13:29:17.391400Z"
    }
   },
   "outputs": [],
   "source": [
    "import numpy as np\n",
    "import pandas as pd\n",
    "import matplotlib.pyplot as plt\n",
    "import seaborn as sns"
   ]
  },
  {
   "cell_type": "markdown",
   "id": "a416d242",
   "metadata": {
    "ExecuteTime": {
     "end_time": "2022-08-20T15:22:04.532845Z",
     "start_time": "2022-08-20T15:22:04.208045Z"
    }
   },
   "source": [
    "# Load Data"
   ]
  },
  {
   "cell_type": "code",
   "execution_count": 5,
   "id": "0bfe3cbb",
   "metadata": {
    "ExecuteTime": {
     "end_time": "2022-08-23T13:29:20.295444Z",
     "start_time": "2022-08-23T13:29:20.256050Z"
    }
   },
   "outputs": [
    {
     "name": "stdout",
     "output_type": "stream",
     "text": [
      "Shape : (614, 13)\n"
     ]
    }
   ],
   "source": [
    "df=pd.read_csv(\"Loan Data.csv\")\n",
    "print(\"Shape :\",df.shape)"
   ]
  },
  {
   "cell_type": "markdown",
   "id": "3c6ce97f",
   "metadata": {},
   "source": [
    "# Explore Data"
   ]
  },
  {
   "cell_type": "code",
   "execution_count": 3,
   "id": "dfd74216",
   "metadata": {
    "ExecuteTime": {
     "end_time": "2022-08-23T13:21:05.891563Z",
     "start_time": "2022-08-23T13:21:05.876099Z"
    },
    "scrolled": true
   },
   "outputs": [
    {
     "data": {
      "text/plain": [
       "Index(['Loan_ID', 'Gender', 'Married', 'Dependents', 'Education',\n",
       "       'Self_Employed', 'ApplicantIncome', 'CoapplicantIncome', 'LoanAmount',\n",
       "       'Loan_Amount_Term', 'Credit_History', 'Property_Area', 'Loan_Status'],\n",
       "      dtype='object')"
      ]
     },
     "execution_count": 3,
     "metadata": {},
     "output_type": "execute_result"
    }
   ],
   "source": [
    "df.columns"
   ]
  },
  {
   "cell_type": "code",
   "execution_count": 4,
   "id": "d67356bb",
   "metadata": {
    "ExecuteTime": {
     "end_time": "2022-08-23T12:42:46.484254Z",
     "start_time": "2022-08-23T12:42:46.005806Z"
    }
   },
   "outputs": [
    {
     "data": {
      "text/html": [
       "<div>\n",
       "<style scoped>\n",
       "    .dataframe tbody tr th:only-of-type {\n",
       "        vertical-align: middle;\n",
       "    }\n",
       "\n",
       "    .dataframe tbody tr th {\n",
       "        vertical-align: top;\n",
       "    }\n",
       "\n",
       "    .dataframe thead th {\n",
       "        text-align: right;\n",
       "    }\n",
       "</style>\n",
       "<table border=\"1\" class=\"dataframe\">\n",
       "  <thead>\n",
       "    <tr style=\"text-align: right;\">\n",
       "      <th></th>\n",
       "      <th>Loan_ID</th>\n",
       "      <th>Gender</th>\n",
       "      <th>Married</th>\n",
       "      <th>Dependents</th>\n",
       "      <th>Education</th>\n",
       "      <th>Self_Employed</th>\n",
       "      <th>ApplicantIncome</th>\n",
       "      <th>CoapplicantIncome</th>\n",
       "      <th>LoanAmount</th>\n",
       "      <th>Loan_Amount_Term</th>\n",
       "      <th>Credit_History</th>\n",
       "      <th>Property_Area</th>\n",
       "      <th>Loan_Status</th>\n",
       "    </tr>\n",
       "  </thead>\n",
       "  <tbody>\n",
       "    <tr>\n",
       "      <th>0</th>\n",
       "      <td>LP001002</td>\n",
       "      <td>Male</td>\n",
       "      <td>No</td>\n",
       "      <td>0</td>\n",
       "      <td>Graduate</td>\n",
       "      <td>No</td>\n",
       "      <td>5849</td>\n",
       "      <td>0.0</td>\n",
       "      <td>NaN</td>\n",
       "      <td>360.0</td>\n",
       "      <td>1.0</td>\n",
       "      <td>Urban</td>\n",
       "      <td>Y</td>\n",
       "    </tr>\n",
       "    <tr>\n",
       "      <th>1</th>\n",
       "      <td>LP001003</td>\n",
       "      <td>Male</td>\n",
       "      <td>Yes</td>\n",
       "      <td>1</td>\n",
       "      <td>Graduate</td>\n",
       "      <td>No</td>\n",
       "      <td>4583</td>\n",
       "      <td>1508.0</td>\n",
       "      <td>128.0</td>\n",
       "      <td>360.0</td>\n",
       "      <td>1.0</td>\n",
       "      <td>Rural</td>\n",
       "      <td>N</td>\n",
       "    </tr>\n",
       "    <tr>\n",
       "      <th>2</th>\n",
       "      <td>LP001005</td>\n",
       "      <td>Male</td>\n",
       "      <td>Yes</td>\n",
       "      <td>0</td>\n",
       "      <td>Graduate</td>\n",
       "      <td>Yes</td>\n",
       "      <td>3000</td>\n",
       "      <td>0.0</td>\n",
       "      <td>66.0</td>\n",
       "      <td>360.0</td>\n",
       "      <td>1.0</td>\n",
       "      <td>Urban</td>\n",
       "      <td>Y</td>\n",
       "    </tr>\n",
       "    <tr>\n",
       "      <th>3</th>\n",
       "      <td>LP001006</td>\n",
       "      <td>Male</td>\n",
       "      <td>Yes</td>\n",
       "      <td>0</td>\n",
       "      <td>Not Graduate</td>\n",
       "      <td>No</td>\n",
       "      <td>2583</td>\n",
       "      <td>2358.0</td>\n",
       "      <td>120.0</td>\n",
       "      <td>360.0</td>\n",
       "      <td>1.0</td>\n",
       "      <td>Urban</td>\n",
       "      <td>Y</td>\n",
       "    </tr>\n",
       "    <tr>\n",
       "      <th>4</th>\n",
       "      <td>LP001008</td>\n",
       "      <td>Male</td>\n",
       "      <td>No</td>\n",
       "      <td>0</td>\n",
       "      <td>Graduate</td>\n",
       "      <td>No</td>\n",
       "      <td>6000</td>\n",
       "      <td>0.0</td>\n",
       "      <td>141.0</td>\n",
       "      <td>360.0</td>\n",
       "      <td>1.0</td>\n",
       "      <td>Urban</td>\n",
       "      <td>Y</td>\n",
       "    </tr>\n",
       "  </tbody>\n",
       "</table>\n",
       "</div>"
      ],
      "text/plain": [
       "    Loan_ID Gender Married Dependents     Education Self_Employed  \\\n",
       "0  LP001002   Male      No          0      Graduate            No   \n",
       "1  LP001003   Male     Yes          1      Graduate            No   \n",
       "2  LP001005   Male     Yes          0      Graduate           Yes   \n",
       "3  LP001006   Male     Yes          0  Not Graduate            No   \n",
       "4  LP001008   Male      No          0      Graduate            No   \n",
       "\n",
       "   ApplicantIncome  CoapplicantIncome  LoanAmount  Loan_Amount_Term  \\\n",
       "0             5849                0.0         NaN             360.0   \n",
       "1             4583             1508.0       128.0             360.0   \n",
       "2             3000                0.0        66.0             360.0   \n",
       "3             2583             2358.0       120.0             360.0   \n",
       "4             6000                0.0       141.0             360.0   \n",
       "\n",
       "   Credit_History Property_Area Loan_Status  \n",
       "0             1.0         Urban           Y  \n",
       "1             1.0         Rural           N  \n",
       "2             1.0         Urban           Y  \n",
       "3             1.0         Urban           Y  \n",
       "4             1.0         Urban           Y  "
      ]
     },
     "execution_count": 4,
     "metadata": {},
     "output_type": "execute_result"
    }
   ],
   "source": [
    "df.head()"
   ]
  },
  {
   "cell_type": "code",
   "execution_count": 5,
   "id": "f445dce1",
   "metadata": {
    "ExecuteTime": {
     "end_time": "2022-08-23T12:42:46.514641Z",
     "start_time": "2022-08-23T12:42:46.486861Z"
    }
   },
   "outputs": [
    {
     "name": "stdout",
     "output_type": "stream",
     "text": [
      "Education:  \n",
      " Graduate        480\n",
      "Not Graduate    134\n",
      "Name: Education, dtype: int64\n",
      "**************************************************\n",
      "Property_Area:  \n",
      " Semiurban    233\n",
      "Urban        202\n",
      "Rural        179\n",
      "Name: Property_Area, dtype: int64\n",
      "**************************************************\n",
      "Credit_History:  \n",
      " 1.0    475\n",
      "0.0     89\n",
      "Name: Credit_History, dtype: int64\n",
      "**************************************************\n",
      "Loan_Amount_Term:  \n",
      " 360.0    512\n",
      "180.0     44\n",
      "480.0     15\n",
      "300.0     13\n",
      "240.0      4\n",
      "84.0       4\n",
      "120.0      3\n",
      "60.0       2\n",
      "36.0       2\n",
      "12.0       1\n",
      "Name: Loan_Amount_Term, dtype: int64\n"
     ]
    }
   ],
   "source": [
    "print(\"Education: \",\"\\n\",df.Education.value_counts())\n",
    "print(\"*\"*50)\n",
    "print(\"Property_Area: \",\"\\n\",df.Property_Area.value_counts())\n",
    "print(\"*\"*50)\n",
    "print(\"Credit_History: \",\"\\n\",df.Credit_History.value_counts())\n",
    "print(\"*\"*50)\n",
    "print(\"Loan_Amount_Term: \",\"\\n\",df.Loan_Amount_Term.value_counts())\n"
   ]
  },
  {
   "cell_type": "code",
   "execution_count": 6,
   "id": "1bafa84e",
   "metadata": {
    "ExecuteTime": {
     "end_time": "2022-08-23T12:42:46.638504Z",
     "start_time": "2022-08-23T12:42:46.516916Z"
    }
   },
   "outputs": [
    {
     "data": {
      "text/plain": [
       "Credit_History       50\n",
       "Self_Employed        32\n",
       "LoanAmount           22\n",
       "Dependents           15\n",
       "Loan_Amount_Term     14\n",
       "Gender               13\n",
       "Married               3\n",
       "Loan_ID               0\n",
       "Education             0\n",
       "ApplicantIncome       0\n",
       "CoapplicantIncome     0\n",
       "Property_Area         0\n",
       "Loan_Status           0\n",
       "dtype: int64"
      ]
     },
     "execution_count": 6,
     "metadata": {},
     "output_type": "execute_result"
    }
   ],
   "source": [
    "df.isnull().sum().sort_values(ascending=False)"
   ]
  },
  {
   "cell_type": "markdown",
   "id": "e7950570",
   "metadata": {},
   "source": [
    "## Deal With Missing Values"
   ]
  },
  {
   "cell_type": "code",
   "execution_count": 6,
   "id": "f770c465",
   "metadata": {
    "ExecuteTime": {
     "end_time": "2022-08-23T13:29:25.584564Z",
     "start_time": "2022-08-23T13:29:25.565425Z"
    }
   },
   "outputs": [],
   "source": [
    "fil_Col_Cat=[\"Credit_History\",\"Self_Employed\",\"Gender\",\"Married\",\"Loan_Amount_Term\"]\n",
    "for i in fil_Col_Cat:\n",
    "    df[i].fillna(df[i].mode()[0],inplace=True)"
   ]
  },
  {
   "cell_type": "code",
   "execution_count": 7,
   "id": "b65fb6be",
   "metadata": {
    "ExecuteTime": {
     "end_time": "2022-08-23T13:29:27.122023Z",
     "start_time": "2022-08-23T13:29:27.113995Z"
    }
   },
   "outputs": [],
   "source": [
    "df[\"LoanAmount\"].fillna(df[\"LoanAmount\"].median(),inplace=True)\n",
    "df[\"Dependents\"].fillna(method=\"bfill\",inplace=True)"
   ]
  },
  {
   "cell_type": "code",
   "execution_count": 6,
   "id": "bddcfd62",
   "metadata": {
    "ExecuteTime": {
     "end_time": "2022-08-23T13:21:13.322460Z",
     "start_time": "2022-08-23T13:21:13.303692Z"
    }
   },
   "outputs": [
    {
     "data": {
      "text/plain": [
       "Loan_ID              0\n",
       "Gender               0\n",
       "Married              0\n",
       "Dependents           0\n",
       "Education            0\n",
       "Self_Employed        0\n",
       "ApplicantIncome      0\n",
       "CoapplicantIncome    0\n",
       "LoanAmount           0\n",
       "Loan_Amount_Term     0\n",
       "Credit_History       0\n",
       "Property_Area        0\n",
       "Loan_Status          0\n",
       "dtype: int64"
      ]
     },
     "execution_count": 6,
     "metadata": {},
     "output_type": "execute_result"
    }
   ],
   "source": [
    "df.isnull().sum().sort_values(ascending=False)"
   ]
  },
  {
   "cell_type": "markdown",
   "id": "14012d6e",
   "metadata": {},
   "source": [
    "# Data visulization"
   ]
  },
  {
   "cell_type": "markdown",
   "id": "f7db4364",
   "metadata": {},
   "source": [
    "###  categorial Data"
   ]
  },
  {
   "cell_type": "code",
   "execution_count": 7,
   "id": "aa0525e2",
   "metadata": {
    "ExecuteTime": {
     "end_time": "2022-08-23T13:21:17.594516Z",
     "start_time": "2022-08-23T13:21:16.144584Z"
    }
   },
   "outputs": [
    {
     "data": {
      "image/png": "[encoded data removed]",
      "text/plain": [
       "<Figure size 576x720 with 4 Axes>"
      ]
     },
     "metadata": {
      "needs_background": "light"
     },
     "output_type": "display_data"
    }
   ],
   "source": [
    "plt.figure(figsize=(8,10))\n",
    "\n",
    "plt.subplot(2,2,1)\n",
    "sns.countplot(x =\"Education\" ,hue=\"Loan_Status\", data=df,palette=\"Set2\")\n",
    "plt.subplot(2,2,2)\n",
    "sns.countplot(x=\"Married\",hue=\"Loan_Status\", data=df,palette=\"Set2\")\n",
    "plt.subplot(2,2,3)\n",
    "sns.countplot(x=\"Self_Employed\",hue=\"Loan_Status\", data=df ,palette=\"Set2\")\n",
    "plt.subplot(2,2,4)\n",
    "sns.countplot(x=\"Property_Area\",hue=\"Loan_Status\", data=df ,palette=\"Set2\")\n",
    "plt.show()"
   ]
  },
  {
   "cell_type": "markdown",
   "id": "d4d1bea2",
   "metadata": {},
   "source": [
    "### numeric data"
   ]
  },
  {
   "cell_type": "code",
   "execution_count": 11,
   "id": "39720c9b",
   "metadata": {
    "ExecuteTime": {
     "end_time": "2022-08-23T12:42:51.804818Z",
     "start_time": "2022-08-23T12:42:49.998747Z"
    }
   },
   "outputs": [
    {
     "data": {
      "image/png": "[encoded data removed]",
      "text/plain": [
       "<Figure size 1008x864 with 3 Axes>"
      ]
     },
     "metadata": {
      "needs_background": "light"
     },
     "output_type": "display_data"
    }
   ],
   "source": [
    "plt.figure(figsize=(14,12))\n",
    "\n",
    "plt.subplot(3,1,1)\n",
    "sns.kdeplot(x =\"LoanAmount\" , data=df)\n",
    "plt.subplot(3,1,2)\n",
    "sns.kdeplot(x=\"ApplicantIncome\", data=df)\n",
    "plt.subplot(3,1,3)\n",
    "sns.kdeplot(x=\"CoapplicantIncome\", data=df)\n",
    "plt.show()"
   ]
  },
  {
   "cell_type": "code",
   "execution_count": null,
   "id": "c9443195",
   "metadata": {},
   "outputs": [],
   "source": []
  },
  {
   "cell_type": "code",
   "execution_count": null,
   "id": "001366c3",
   "metadata": {},
   "outputs": [],
   "source": []
  },
  {
   "cell_type": "code",
   "execution_count": null,
   "id": "a728ed5a",
   "metadata": {},
   "outputs": [],
   "source": []
  },
  {
   "cell_type": "code",
   "execution_count": null,
   "id": "32ce4513",
   "metadata": {},
   "outputs": [],
   "source": []
  },
  {
   "cell_type": "markdown",
   "id": "ebf5af0d",
   "metadata": {},
   "source": [
    "# Data Preprocessing"
   ]
  },
  {
   "cell_type": "markdown",
   "id": "4aa25a59",
   "metadata": {},
   "source": [
    "#### i want concat all income together"
   ]
  },
  {
   "cell_type": "code",
   "execution_count": 8,
   "id": "651dc450",
   "metadata": {
    "ExecuteTime": {
     "end_time": "2022-08-23T13:29:37.283131Z",
     "start_time": "2022-08-23T13:29:37.267675Z"
    }
   },
   "outputs": [],
   "source": [
    "df[\"Income\"]=df[\"ApplicantIncome\"]+df[\"CoapplicantIncome\"]\n",
    "df.drop([\"ApplicantIncome\",\"CoapplicantIncome\"],axis=1,inplace=True)"
   ]
  },
  {
   "cell_type": "markdown",
   "id": "680a2c89",
   "metadata": {
    "ExecuteTime": {
     "end_time": "2022-08-20T16:53:57.027636Z",
     "start_time": "2022-08-20T16:53:57.002671Z"
    }
   },
   "source": [
    "#### Drop ID Column"
   ]
  },
  {
   "cell_type": "code",
   "execution_count": 9,
   "id": "c30eff0a",
   "metadata": {
    "ExecuteTime": {
     "end_time": "2022-08-23T13:29:42.290064Z",
     "start_time": "2022-08-23T13:29:42.272904Z"
    }
   },
   "outputs": [],
   "source": [
    "df.drop([\"Loan_ID\"],axis=1,inplace=True)"
   ]
  },
  {
   "cell_type": "markdown",
   "id": "4968bc9a",
   "metadata": {},
   "source": [
    "#### Scale "
   ]
  },
  {
   "cell_type": "code",
   "execution_count": 10,
   "id": "eb0dc3f3",
   "metadata": {
    "ExecuteTime": {
     "end_time": "2022-08-23T13:29:51.183448Z",
     "start_time": "2022-08-23T13:29:51.170647Z"
    }
   },
   "outputs": [],
   "source": [
    "from sklearn.preprocessing import StandardScaler"
   ]
  },
  {
   "cell_type": "code",
   "execution_count": 37,
   "id": "dee1ea7a",
   "metadata": {
    "ExecuteTime": {
     "end_time": "2022-08-23T13:33:51.110180Z",
     "start_time": "2022-08-23T13:33:51.089084Z"
    }
   },
   "outputs": [],
   "source": [
    "scaler=StandardScaler()\n",
    "df[\"Income\"]=scaler.fit_transform(df[[\"Income\"]])"
   ]
  },
  {
   "cell_type": "code",
   "execution_count": 38,
   "id": "53d8820f",
   "metadata": {
    "ExecuteTime": {
     "end_time": "2022-08-23T13:34:31.044196Z",
     "start_time": "2022-08-23T13:34:31.022775Z"
    }
   },
   "outputs": [],
   "source": [
    "df[\"LoanAmount\"]=scaler.fit_transform(df[[\"LoanAmount\"]])"
   ]
  },
  {
   "cell_type": "code",
   "execution_count": null,
   "id": "d76c0ee7",
   "metadata": {},
   "outputs": [],
   "source": []
  },
  {
   "cell_type": "code",
   "execution_count": 108,
   "id": "6e913901",
   "metadata": {
    "ExecuteTime": {
     "end_time": "2022-08-23T14:45:14.041052Z",
     "start_time": "2022-08-23T14:45:14.035837Z"
    }
   },
   "outputs": [],
   "source": [
    "from sklearn.preprocessing import LabelEncoder\n",
    "le = LabelEncoder()\n"
   ]
  },
  {
   "cell_type": "code",
   "execution_count": 111,
   "id": "bfff1f21",
   "metadata": {
    "ExecuteTime": {
     "end_time": "2022-08-23T14:45:57.880357Z",
     "start_time": "2022-08-23T14:45:57.864719Z"
    }
   },
   "outputs": [],
   "source": [
    "df['Gender'] = le.fit_transform(df['Gender'])\n",
    "df['Married'] = le.fit_transform(df['Married'])\n",
    "df['Education'] = le.fit_transform(df['Education'])\n",
    "df['Self_Employed'] = le.fit_transform(df['Self_Employed'])\n",
    "df['Property_Area'] = le.fit_transform(df['Property_Area'])\n",
    "df['Loan_Status'] = le.fit_transform(df['Loan_Status'])\n",
    "df['Dependents'] = le.fit_transform(df['Dependents'])"
   ]
  },
  {
   "cell_type": "code",
   "execution_count": 112,
   "id": "121731a6",
   "metadata": {
    "ExecuteTime": {
     "end_time": "2022-08-23T14:46:06.177120Z",
     "start_time": "2022-08-23T14:46:06.158552Z"
    }
   },
   "outputs": [],
   "source": [
    "df[\"Loan_Amount_Term\"]=df[\"Loan_Amount_Term\"].apply(lambda x:str(x))\n",
    "df['le_Loan_Amount_Term'] = le.fit_transform(df['Loan_Amount_Term'])\n"
   ]
  },
  {
   "cell_type": "code",
   "execution_count": 122,
   "id": "e2b76673",
   "metadata": {
    "ExecuteTime": {
     "end_time": "2022-08-23T14:53:32.519438Z",
     "start_time": "2022-08-23T14:53:32.503869Z"
    }
   },
   "outputs": [
    {
     "name": "stdout",
     "output_type": "stream",
     "text": [
      "Gender class :\n",
      " ['Female' 'Male']\n",
      "**************************************************\n",
      "Married class :\n",
      " ['No' 'Yes']\n",
      "**************************************************\n",
      "Education class :\n",
      " ['Graduate' 'Not Graduate']\n",
      "**************************************************\n",
      "Self_Employed class :\n",
      " ['No' 'Yes']\n",
      "**************************************************\n",
      "Property_Area class :\n",
      " ['Rural' 'Semiurban' 'Urban']\n",
      "**************************************************\n",
      "Dependents class :\n",
      " [0 1 2 3]\n",
      "**************************************************\n",
      "Loan_Amount_Term class :\n",
      " ['12.0' '120.0' '180.0' '240.0' '300.0' '36.0' '360.0' '480.0' '60.0'\n",
      " '84.0']\n",
      "**************************************************\n",
      "Loan_Status class :\n",
      " [0 1]\n",
      "**************************************************\n"
     ]
    }
   ],
   "source": [
    "print(\"Gender class :\\n\",le_Gender.classes_)\n",
    "print(\"*\"*50)\n",
    "print(\"Married class :\\n\",le_Married.classes_)\n",
    "print(\"*\"*50)\n",
    "print(\"Education class :\\n\",le_Education.classes_)\n",
    "print(\"*\"*50)\n",
    "print(\"Self_Employed class :\\n\",le_Self_Employed.classes_)\n",
    "print(\"*\"*50)\n",
    "print(\"Property_Area class :\\n\",le_Property_Area.classes_)\n",
    "print(\"*\"*50)\n",
    "print(\"Dependents class :\\n\",le_Dependents.classes_)\n",
    "print(\"*\"*50)\n",
    "print(\"Loan_Amount_Term class :\\n\",le_Term.classes_)\n",
    "print(\"*\"*50)\n",
    "print(\"Loan_Status class :\\n\",le_Loan_Status.classes_)\n",
    "print(\"*\"*50)"
   ]
  },
  {
   "cell_type": "code",
   "execution_count": 43,
   "id": "5ae74886",
   "metadata": {
    "ExecuteTime": {
     "end_time": "2022-08-23T13:34:43.840508Z",
     "start_time": "2022-08-23T13:34:42.158438Z"
    }
   },
   "outputs": [
    {
     "data": {
      "text/plain": [
       "<AxesSubplot:>"
      ]
     },
     "execution_count": 43,
     "metadata": {},
     "output_type": "execute_result"
    },
    {
     "data": {
      "image/png": "[encoded data removed]",
      "text/plain": [
       "<Figure size 1008x864 with 2 Axes>"
      ]
     },
     "metadata": {
      "needs_background": "light"
     },
     "output_type": "display_data"
    }
   ],
   "source": [
    "plt.figure(figsize=(14,12))\n",
    "\n",
    "sns.heatmap(df.corr(),annot=True,cbar=True,vmax=1,vmin=-1)"
   ]
  },
  {
   "cell_type": "markdown",
   "id": "eebc8efe",
   "metadata": {},
   "source": [
    "# Spilt Data"
   ]
  },
  {
   "cell_type": "code",
   "execution_count": 44,
   "id": "f3d6db0d",
   "metadata": {
    "ExecuteTime": {
     "end_time": "2022-08-23T13:34:51.236050Z",
     "start_time": "2022-08-23T13:34:51.223072Z"
    }
   },
   "outputs": [],
   "source": [
    "from sklearn.model_selection import train_test_split\n",
    "X=df.drop(\"Loan_Status\",axis=1)\n",
    "y=df[\"Loan_Status\"]"
   ]
  },
  {
   "cell_type": "code",
   "execution_count": 45,
   "id": "a19baaf9",
   "metadata": {
    "ExecuteTime": {
     "end_time": "2022-08-23T13:34:52.913973Z",
     "start_time": "2022-08-23T13:34:52.899949Z"
    }
   },
   "outputs": [],
   "source": [
    "X_train,X_test,y_train,y_test=train_test_split(X,y,test_size=0.25)"
   ]
  },
  {
   "cell_type": "markdown",
   "id": "97555054",
   "metadata": {},
   "source": [
    "# Evalute"
   ]
  },
  {
   "cell_type": "code",
   "execution_count": 46,
   "id": "1911a7f1",
   "metadata": {
    "ExecuteTime": {
     "end_time": "2022-08-23T13:34:54.247796Z",
     "start_time": "2022-08-23T13:34:54.231195Z"
    }
   },
   "outputs": [],
   "source": [
    "from sklearn.metrics import precision_score, recall_score, f1_score, log_loss, accuracy_score\n",
    "\n",
    "def evaluate(model,y_true):\n",
    "    y_pred=model.predict(X_test)\n",
    "    pre = precision_score(y_true, y_pred)\n",
    "    rec = recall_score(y_true, y_pred)\n",
    "    f1 = f1_score(y_true, y_pred)\n",
    "    loss = log_loss(y_true, y_pred)\n",
    "    acc = accuracy_score(y_true, y_pred)\n",
    "    \n",
    "    \n",
    "    print('  pre: %.3f\\n  rec: %.3f\\n  f1: %.3f\\n  loss: %.3f\\n  acc: %.3f' % (pre, rec, f1, loss, acc))"
   ]
  },
  {
   "cell_type": "markdown",
   "id": "1b120f2b",
   "metadata": {},
   "source": [
    "# Decision Tree"
   ]
  },
  {
   "cell_type": "code",
   "execution_count": 114,
   "id": "c954f557",
   "metadata": {
    "ExecuteTime": {
     "end_time": "2022-08-23T14:46:21.539618Z",
     "start_time": "2022-08-23T14:46:21.460499Z"
    }
   },
   "outputs": [
    {
     "name": "stdout",
     "output_type": "stream",
     "text": [
      " Train score: 1.0\n",
      "  pre: 0.725\n",
      "  rec: 0.733\n",
      "  f1: 0.729\n",
      "  loss: 12.335\n",
      "  acc: 0.643\n"
     ]
    }
   ],
   "source": [
    "from sklearn.tree import DecisionTreeClassifier\n",
    "DT=DecisionTreeClassifier()\n",
    "DT.fit(X_train,y_train)\n",
    "print(\" Train score:\",DT.score(X_train,y_train))\n",
    "evaluate(DT,y_test)"
   ]
  },
  {
   "cell_type": "markdown",
   "id": "538c04a7",
   "metadata": {},
   "source": [
    "# RF Model"
   ]
  },
  {
   "cell_type": "code",
   "execution_count": 119,
   "id": "aecdff59",
   "metadata": {
    "ExecuteTime": {
     "end_time": "2022-08-23T14:52:18.366535Z",
     "start_time": "2022-08-23T14:52:18.135014Z"
    }
   },
   "outputs": [
    {
     "name": "stdout",
     "output_type": "stream",
     "text": [
      "train score: 0.8434782608695652\n",
      "  pre: 0.758\n",
      "  rec: 0.960\n",
      "  f1: 0.847\n",
      "  loss: 7.850\n",
      "  acc: 0.773\n"
     ]
    },
    {
     "data": {
      "text/plain": [
       "array([0.0162867 , 0.03088812, 0.02257254, 0.02421665, 0.01099391,\n",
       "       0.10480866, 0.02980436, 0.57587439, 0.0402364 , 0.13153644,\n",
       "       0.01278184])"
      ]
     },
     "execution_count": 119,
     "metadata": {},
     "output_type": "execute_result"
    }
   ],
   "source": [
    "from sklearn.ensemble import RandomForestClassifier\n",
    "RF=RandomForestClassifier(n_estimators=41,max_depth=5)\n",
    "RF.fit(X_train,y_train)\n",
    "print(\"train score:\",RF.score(X_train,y_train))\n",
    "\n",
    "evaluate(RF,y_test)\n"
   ]
  },
  {
   "cell_type": "code",
   "execution_count": 121,
   "id": "b6284cec",
   "metadata": {
    "ExecuteTime": {
     "end_time": "2022-08-23T14:52:52.286056Z",
     "start_time": "2022-08-23T14:52:51.362772Z"
    }
   },
   "outputs": [
    {
     "data": {
      "text/plain": [
       "<AxesSubplot:>"
      ]
     },
     "execution_count": 121,
     "metadata": {},
     "output_type": "execute_result"
    },
    {
     "data": {
      "image/png": "[encoded data removed]",
      "text/plain": [
       "<Figure size 864x576 with 1 Axes>"
      ]
     },
     "metadata": {
      "needs_background": "light"
     },
     "output_type": "display_data"
    }
   ],
   "source": [
    "importances=pd.Series(RF.feature_importances_, index=X.columns) \n",
    "importances.plot(kind='barh', figsize=(12,8))"
   ]
  },
  {
   "cell_type": "markdown",
   "id": "f78f4430",
   "metadata": {},
   "source": [
    "# Gradient Boost"
   ]
  },
  {
   "cell_type": "code",
   "execution_count": 106,
   "id": "fa45aead",
   "metadata": {
    "ExecuteTime": {
     "end_time": "2022-08-23T13:56:30.817851Z",
     "start_time": "2022-08-23T13:56:30.768419Z"
    }
   },
   "outputs": [
    {
     "name": "stdout",
     "output_type": "stream",
     "text": [
      "Train score: 0.8326086956521739\n",
      "  pre: 0.746\n",
      "  rec: 0.960\n",
      "  f1: 0.840\n",
      "  loss: 8.298\n",
      "  acc: 0.760\n"
     ]
    }
   ],
   "source": [
    "from sklearn.ensemble import GradientBoostingClassifier\n",
    "GB=GradientBoostingClassifier(n_estimators=10)\n",
    "GB.fit(X_train,y_train)\n",
    "print(\"Train score:\",GB.score(X_train,y_train))\n",
    "\n",
    "evaluate(GB,y_test)\n"
   ]
  },
  {
   "cell_type": "markdown",
   "id": "efe02645",
   "metadata": {},
   "source": [
    "# Naive Bayes"
   ]
  },
  {
   "cell_type": "code",
   "execution_count": 81,
   "id": "c4772d03",
   "metadata": {
    "ExecuteTime": {
     "end_time": "2022-08-23T13:36:59.210223Z",
     "start_time": "2022-08-23T13:36:59.172547Z"
    }
   },
   "outputs": [
    {
     "name": "stdout",
     "output_type": "stream",
     "text": [
      "Train score: 0.8239130434782609\n",
      "  pre: 0.769\n",
      "  rec: 0.921\n",
      "  f1: 0.838\n",
      "  loss: 8.074\n",
      "  acc: 0.766\n"
     ]
    }
   ],
   "source": [
    "from sklearn.naive_bayes import GaussianNB\n",
    "GNB = GaussianNB()\n",
    "GNB.fit(X_train, y_train)\n",
    "print(\"Train score:\",GNB.score(X_train,y_train))\n",
    "evaluate(GNB,y_test)"
   ]
  },
  {
   "cell_type": "code",
   "execution_count": null,
   "id": "319675b0",
   "metadata": {},
   "outputs": [],
   "source": []
  }
 ],
 "metadata": {
  "kernelspec": {
   "display_name": "Python 3 (ipykernel)",
   "language": "python",
   "name": "python3"
  },
  "language_info": {
   "codemirror_mode": {
    "name": "ipython",
    "version": 3
   },
   "file_extension": ".py",
   "mimetype": "text/x-python",
   "name": "python",
   "nbconvert_exporter": "python",
   "pygments_lexer": "ipython3",
   "version": "3.9.12"
  }
 },
 "nbformat": 4,
 "nbformat_minor": 5
}
